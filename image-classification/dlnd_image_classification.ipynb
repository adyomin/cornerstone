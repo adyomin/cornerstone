{
 "cells": [
  {
   "cell_type": "markdown",
   "metadata": {
    "collapsed": true,
    "deletable": true,
    "editable": true
   },
   "source": [
    "# Image Classification\n",
    "In this project, you'll classify images from the [CIFAR-10 dataset](https://www.cs.toronto.edu/~kriz/cifar.html).  The dataset consists of airplanes, dogs, cats, and other objects. You'll preprocess the images, then train a convolutional neural network on all the samples. The images need to be normalized and the labels need to be one-hot encoded.  You'll get to apply what you learned and build a convolutional, max pooling, dropout, and fully connected layers.  At the end, you'll get to see your neural network's predictions on the sample images.\n",
    "## Get the Data\n",
    "Run the following cell to download the [CIFAR-10 dataset for python](https://www.cs.toronto.edu/~kriz/cifar-10-python.tar.gz)."
   ]
  },
  {
   "cell_type": "code",
   "execution_count": 1,
   "metadata": {
    "collapsed": false,
    "deletable": true,
    "editable": true
   },
   "outputs": [
    {
     "name": "stdout",
     "output_type": "stream",
     "text": [
      "All files found!\n"
     ]
    }
   ],
   "source": [
    "\"\"\"\n",
    "DON'T MODIFY ANYTHING IN THIS CELL THAT IS BELOW THIS LINE\n",
    "\"\"\"\n",
    "from urllib.request import urlretrieve\n",
    "from os.path import isfile, isdir\n",
    "from tqdm import tqdm\n",
    "import problem_unittests as tests\n",
    "import tarfile\n",
    "\n",
    "cifar10_dataset_folder_path = 'cifar-10-batches-py'\n",
    "\n",
    "class DLProgress(tqdm):\n",
    "    last_block = 0\n",
    "\n",
    "    def hook(self, block_num=1, block_size=1, total_size=None):\n",
    "        self.total = total_size\n",
    "        self.update((block_num - self.last_block) * block_size)\n",
    "        self.last_block = block_num\n",
    "\n",
    "if not isfile('cifar-10-python.tar.gz'):\n",
    "    with DLProgress(unit='B', unit_scale=True, miniters=1, desc='CIFAR-10 Dataset') as pbar:\n",
    "        urlretrieve(\n",
    "            'https://www.cs.toronto.edu/~kriz/cifar-10-python.tar.gz',\n",
    "            'cifar-10-python.tar.gz',\n",
    "            pbar.hook)\n",
    "\n",
    "if not isdir(cifar10_dataset_folder_path):\n",
    "    with tarfile.open('cifar-10-python.tar.gz') as tar:\n",
    "        tar.extractall()\n",
    "        tar.close()\n",
    "\n",
    "tests.test_folder_path(cifar10_dataset_folder_path)"
   ]
  },
  {
   "cell_type": "markdown",
   "metadata": {
    "deletable": true,
    "editable": true
   },
   "source": [
    "## Explore the Data\n",
    "The dataset is broken into batches to prevent your machine from running out of memory.  The CIFAR-10 dataset consists of 5 batches, named `data_batch_1`, `data_batch_2`, etc.. Each batch contains the labels and images that are one of the following:\n",
    "* airplane\n",
    "* automobile\n",
    "* bird\n",
    "* cat\n",
    "* deer\n",
    "* dog\n",
    "* frog\n",
    "* horse\n",
    "* ship\n",
    "* truck\n",
    "\n",
    "Understanding a dataset is part of making predictions on the data.  Play around with the code cell below by changing the `batch_id` and `sample_id`. The `batch_id` is the id for a batch (1-5). The `sample_id` is the id for a image and label pair in the batch.\n",
    "\n",
    "Ask yourself \"What are all possible labels?\", \"What is the range of values for the image data?\", \"Are the labels in order or random?\".  Answers to questions like these will help you preprocess the data and end up with better predictions."
   ]
  },
  {
   "cell_type": "code",
   "execution_count": 2,
   "metadata": {
    "collapsed": false,
    "deletable": true,
    "editable": true
   },
   "outputs": [
    {
     "name": "stdout",
     "output_type": "stream",
     "text": [
      "\n",
      "Stats of batch 1:\n",
      "Samples: 10000\n",
      "Label Counts: {0: 1005, 1: 974, 2: 1032, 3: 1016, 4: 999, 5: 937, 6: 1030, 7: 1001, 8: 1025, 9: 981}\n",
      "First 20 Labels: [6, 9, 9, 4, 1, 1, 2, 7, 8, 3, 4, 7, 7, 2, 9, 9, 9, 3, 2, 6]\n",
      "\n",
      "Example of Image 5:\n",
      "Image - Min Value: 0 Max Value: 252\n",
      "Image - Shape: (32, 32, 3)\n",
      "Label - Label Id: 1 Name: automobile\n"
     ]
    },
    {
     "data": {
      "image/png": "[encoded data removed]",
      "text/plain": [
       "<matplotlib.figure.Figure at 0x110a09dd8>"
      ]
     },
     "metadata": {
      "image/png": {
       "height": 250,
       "width": 253
      }
     },
     "output_type": "display_data"
    }
   ],
   "source": [
    "%matplotlib inline\n",
    "%config InlineBackend.figure_format = 'retina'\n",
    "\n",
    "import helper\n",
    "import numpy as np\n",
    "\n",
    "# Explore the dataset\n",
    "batch_id = 1\n",
    "sample_id = 5\n",
    "helper.display_stats(cifar10_dataset_folder_path, batch_id, sample_id)"
   ]
  },
  {
   "cell_type": "markdown",
   "metadata": {
    "deletable": true,
    "editable": true
   },
   "source": [
    "## Implement Preprocess Functions\n",
    "### Normalize\n",
    "In the cell below, implement the `normalize` function to take in image data, `x`, and return it as a normalized Numpy array. The values should be in the range of 0 to 1, inclusive.  The return object should be the same shape as `x`."
   ]
  },
  {
   "cell_type": "code",
   "execution_count": 3,
   "metadata": {
    "collapsed": false,
    "deletable": true,
    "editable": true
   },
   "outputs": [
    {
     "name": "stdout",
     "output_type": "stream",
     "text": [
      "Tests Passed\n"
     ]
    }
   ],
   "source": [
    "def normalize(x):\n",
    "    \"\"\"\n",
    "    Normalize a list of sample image data in the range of 0 to 1\n",
    "    : x: List of image data.  The image shape is (32, 32, 3)\n",
    "    : return: Numpy array of normalize data\n",
    "    \"\"\"\n",
    "    return x/255\n",
    "\n",
    "tests.test_normalize(normalize)"
   ]
  },
  {
   "cell_type": "code",
   "execution_count": 6,
   "metadata": {
    "collapsed": false
   },
   "outputs": [
    {
     "data": {
      "text/plain": [
       "array([[ 0.78039216,  0.82352941,  0.87843137,  0.6627451 ,  0.8627451 ],\n",
       "       [ 0.58823529,  0.87843137,  0.07843137,  0.96862745,  0.64313725],\n",
       "       [ 0.65882353,  0.2       ,  0.32941176,  0.83529412,  0.12156863],\n",
       "       [ 0.0627451 ,  0.45098039,  0.90196078,  0.72156863,  0.37647059],\n",
       "       [ 0.56078431,  0.10588235,  0.10588235,  0.00784314,  0.08235294]])"
      ]
     },
     "execution_count": 6,
     "metadata": {},
     "output_type": "execute_result"
    }
   ],
   "source": [
    "# sanity check\n",
    "normalize(np.random.choice(range(255), (5,5)))"
   ]
  },
  {
   "cell_type": "markdown",
   "metadata": {
    "deletable": true,
    "editable": true
   },
   "source": [
    "### One-hot encode\n",
    "Just like the previous code cell, you'll be implementing a function for preprocessing.  This time, you'll implement the `one_hot_encode` function. The input, `x`, are a list of labels.  Implement the function to return the list of labels as One-Hot encoded Numpy array.  The possible values for labels are 0 to 9. The one-hot encoding function should return the same encoding for each value between each call to `one_hot_encode`.  Make sure to save the map of encodings outside the function.\n",
    "\n",
    "Hint: Don't reinvent the wheel."
   ]
  },
  {
   "cell_type": "markdown",
   "metadata": {
    "deletable": true,
    "editable": true
   },
   "source": [
    "**For practical purposes** I believe its best to use tf.one_hot and/or tf.nn.sparse_softmax_cross_entropy_with_logits according to http://stackoverflow.com/a/33682213/5297028 & http://stackoverflow.com/a/35227732/5297028.  I presume we have to use Numpy only here is what I can up with (some googling was involved since I got the indexing wrong on my own the first time, but this is essentially an original solution):"
   ]
  },
  {
   "cell_type": "code",
   "execution_count": 18,
   "metadata": {
    "collapsed": false,
    "deletable": true,
    "editable": true
   },
   "outputs": [
    {
     "name": "stdout",
     "output_type": "stream",
     "text": [
      "Tests Passed\n"
     ]
    }
   ],
   "source": [
    "# Using the same global variable for a fixed batch size similar to what \n",
    "# @iamtrask did in his segment would be more memory efficient I assume\n",
    "\n",
    "def one_hot_encode(x):\n",
    "    \"\"\"\n",
    "    One hot encode a list of sample labels. Return a one-hot encoded vector for each label.\n",
    "    : x: List of sample Labels\n",
    "    : return: Numpy array of one-hot encoded labels\n",
    "    \"\"\"\n",
    "    batch_size = len(x)\n",
    "    num_targets = 10\n",
    "    output = np.zeros((batch_size, num_targets))\n",
    "    output[np.arange(batch_size), x] = 1\n",
    "    return output\n",
    "\n",
    "\"\"\"\n",
    "DON'T MODIFY ANYTHING IN THIS CELL THAT IS BELOW THIS LINE\n",
    "\"\"\"\n",
    "tests.test_one_hot_encode(one_hot_encode)"
   ]
  },
  {
   "cell_type": "markdown",
   "metadata": {
    "deletable": true,
    "editable": true
   },
   "source": [
    "### Randomize Data\n",
    "As you saw from exploring the data above, the order of the samples are randomized.  It doesn't hurt to randomize it again, but you don't need to for this dataset."
   ]
  },
  {
   "cell_type": "markdown",
   "metadata": {
    "deletable": true,
    "editable": true
   },
   "source": [
    "## Preprocess all the data and save it\n",
    "Running the code cell below will preprocess all the CIFAR-10 data and save it to file. The code below also uses 10% of the training data for validation."
   ]
  },
  {
   "cell_type": "code",
   "execution_count": 19,
   "metadata": {
    "collapsed": false,
    "deletable": true,
    "editable": true
   },
   "outputs": [
    {
     "name": "stdout",
     "output_type": "stream",
     "text": [
      "CPU times: user 2.05 s, sys: 2.46 s, total: 4.51 s\n",
      "Wall time: 7.01 s\n"
     ]
    }
   ],
   "source": [
    "%%time\n",
    "\n",
    "\"\"\"\n",
    "DON'T MODIFY ANYTHING IN THIS CELL\n",
    "\"\"\"\n",
    "# Preprocess Training, Validation, and Testing Data\n",
    "helper.preprocess_and_save_data(cifar10_dataset_folder_path, normalize, one_hot_encode)"
   ]
  },
  {
   "cell_type": "markdown",
   "metadata": {
    "deletable": true,
    "editable": true
   },
   "source": [
    "# Check Point\n",
    "This is your first checkpoint.  If you ever decide to come back to this notebook or have to restart the notebook, you can start from here.  The preprocessed data has been saved to disk."
   ]
  },
  {
   "cell_type": "code",
   "execution_count": 20,
   "metadata": {
    "collapsed": true,
    "deletable": true,
    "editable": true
   },
   "outputs": [],
   "source": [
    "\"\"\"\n",
    "DON'T MODIFY ANYTHING IN THIS CELL\n",
    "\"\"\"\n",
    "import pickle\n",
    "import problem_unittests as tests\n",
    "import helper\n",
    "\n",
    "# Load the Preprocessed Validation data\n",
    "valid_features, valid_labels = pickle.load(open('preprocess_validation.p', mode='rb'))"
   ]
  },
  {
   "cell_type": "code",
   "execution_count": 25,
   "metadata": {
    "collapsed": false
   },
   "outputs": [
    {
     "name": "stdout",
     "output_type": "stream",
     "text": [
      "<class 'numpy.ndarray'>\n",
      "(5000, 32, 32, 3)\n"
     ]
    }
   ],
   "source": [
    "# TODO: change validation size/schema to make it fit into GT 650M\n",
    "\n",
    "print(type(valid_features))\n",
    "print(valid_features.shape)"
   ]
  },
  {
   "cell_type": "markdown",
   "metadata": {
    "deletable": true,
    "editable": true
   },
   "source": [
    "## Build the network\n",
    "For the neural network, you'll build each layer into a function.  Most of the code you've seen has been outside of functions. To test your code more thoroughly, we require that you put each layer in a function.  This allows us to give you better feedback and test for simple mistakes using our unittests before you submit your project.\n",
    "\n",
    "If you're finding it hard to dedicate enough time for this course a week, we've provided a small shortcut to this part of the project. In the next couple of problems, you'll have the option to use [TensorFlow Layers](https://www.tensorflow.org/api_docs/python/tf/layers) or [TensorFlow Layers (contrib)](https://www.tensorflow.org/api_guides/python/contrib.layers) to build each layer, except \"Convolutional & Max Pooling\" layer.  TF Layers is similar to Keras's and TFLearn's abstraction to layers, so it's easy to pickup.\n",
    "\n",
    "If you would like to get the most of this course, try to solve all the problems without TF Layers.  Let's begin!\n",
    "### Input\n",
    "The neural network needs to read the image data, one-hot encoded labels, and dropout keep probability. Implement the following functions\n",
    "* Implement `neural_net_image_input`\n",
    " * Return a [TF Placeholder](https://www.tensorflow.org/api_docs/python/tf/placeholder)\n",
    " * Set the shape using `image_shape` with batch size set to `None`.\n",
    " * Name the TensorFlow placeholder \"x\" using the TensorFlow `name` parameter in the [TF Placeholder](https://www.tensorflow.org/api_docs/python/tf/placeholder).\n",
    "* Implement `neural_net_label_input`\n",
    " * Return a [TF Placeholder](https://www.tensorflow.org/api_docs/python/tf/placeholder)\n",
    " * Set the shape using `n_classes` with batch size set to `None`.\n",
    " * Name the TensorFlow placeholder \"y\" using the TensorFlow `name` parameter in the [TF Placeholder](https://www.tensorflow.org/api_docs/python/tf/placeholder).\n",
    "* Implement `neural_net_keep_prob_input`\n",
    " * Return a [TF Placeholder](https://www.tensorflow.org/api_docs/python/tf/placeholder) for dropout keep probability.\n",
    " * Name the TensorFlow placeholder \"keep_prob\" using the TensorFlow `name` parameter in the [TF Placeholder](https://www.tensorflow.org/api_docs/python/tf/placeholder).\n",
    "\n",
    "These names will be used at the end of the project to load your saved model.\n",
    "\n",
    "Note: `None` for shapes in TensorFlow allow for a dynamic size."
   ]
  },
  {
   "cell_type": "code",
   "execution_count": 47,
   "metadata": {
    "collapsed": false,
    "deletable": true,
    "editable": true
   },
   "outputs": [
    {
     "name": "stdout",
     "output_type": "stream",
     "text": [
      "Image Input Tests Passed.\n",
      "Label Input Tests Passed.\n",
      "Keep Prob Tests Passed.\n"
     ]
    }
   ],
   "source": [
    "import tensorflow as tf\n",
    "\n",
    "def neural_net_image_input(image_shape):\n",
    "    \"\"\"\n",
    "    Return a Tensor for a batch of image input\n",
    "    : image_shape: Shape of the images\n",
    "    : return: Tensor for image input.\n",
    "    \"\"\"\n",
    "    tensor_shape = (None, image_shape[0], image_shape[1], image_shape[2])\n",
    "    return tf.placeholder(dtype=tf.float32, shape=tensor_shape, name='x')\n",
    "\n",
    "\n",
    "def neural_net_label_input(n_classes):\n",
    "    \"\"\"\n",
    "    Return a Tensor for a batch of label input\n",
    "    : n_classes: Number of classes\n",
    "    : return: Tensor for label input.\n",
    "    \"\"\"\n",
    "    return tf.placeholder(dtype=tf.float32, shape=(None, n_classes), name='y')\n",
    "\n",
    "\n",
    "def neural_net_keep_prob_input():\n",
    "    \"\"\"\n",
    "    Return a Tensor for keep probability\n",
    "    : return: Tensor for keep probability.\n",
    "    \"\"\"\n",
    "    return tf.placeholder(dtype=tf.float32, name='keep_prob')\n",
    "\n",
    "\n",
    "\"\"\"\n",
    "DON'T MODIFY ANYTHING IN THIS CELL THAT IS BELOW THIS LINE\n",
    "\"\"\"\n",
    "tf.reset_default_graph()\n",
    "tests.test_nn_image_inputs(neural_net_image_input)\n",
    "tests.test_nn_label_inputs(neural_net_label_input)\n",
    "tests.test_nn_keep_prob_inputs(neural_net_keep_prob_input)"
   ]
  },
  {
   "cell_type": "markdown",
   "metadata": {
    "deletable": true,
    "editable": true
   },
   "source": [
    "### Convolution and Max Pooling Layer\n",
    "Convolution layers have a lot of success with images. For this code cell, you should implement the function `conv2d_maxpool` to apply convolution then max pooling:\n",
    "* Create the weight and bias using `conv_ksize`, `conv_num_outputs` and the shape of `x_tensor`.\n",
    "* Apply a convolution to `x_tensor` using weight and `conv_strides`.\n",
    " * We recommend you use same padding, but you're welcome to use any padding.\n",
    "* Add bias\n",
    "* Add a nonlinear activation to the convolution.\n",
    "* Apply Max Pooling using `pool_ksize` and `pool_strides`.\n",
    " * We recommend you use same padding, but you're welcome to use any padding.\n",
    "\n",
    "Note: You **can't** use [TensorFlow Layers](https://www.tensorflow.org/api_docs/python/tf/layers) or [TensorFlow Layers (contrib)](https://www.tensorflow.org/api_guides/python/contrib.layers) for this layer.  You're free to use any TensorFlow package for all the other layers."
   ]
  },
  {
   "cell_type": "code",
   "execution_count": 48,
   "metadata": {
    "collapsed": false,
    "deletable": true,
    "editable": true
   },
   "outputs": [
    {
     "name": "stdout",
     "output_type": "stream",
     "text": [
      "Tests Passed\n"
     ]
    }
   ],
   "source": [
    "def conv2d_maxpool(x_tensor, conv_num_outputs, conv_ksize, conv_strides, pool_ksize, pool_strides):\n",
    "    \"\"\"\n",
    "    Apply convolution then max pooling to x_tensor\n",
    "    :param x_tensor: TensorFlow Tensor of shape?\n",
    "    :param conv_num_outputs: Number of outputs for the convolutional layer\n",
    "    :param conv_strides: Stride 2-D Tuple for convolution\n",
    "    :param pool_ksize: kernal size 2-D Tuple for pool\n",
    "    :param pool_strides: Stride 2-D Tuple for pool\n",
    "    : return: A tensor that represents convolution and max pooling of x_tensor\n",
    "    \"\"\"\n",
    "    \n",
    "    n_channels = int(x_tensor.shape[3])\n",
    "    scale = (int(x_tensor.shape[1])*int(x_tensor.shape[2]))**(-0.5)\n",
    "    t_shape = [conv_ksize[0], conv_ksize[1], n_channels, conv_num_outputs]\n",
    "    weights = tf.Variable(tf.truncated_normal(shape=t_shape, stddev=scale))\n",
    "    biases = tf.Variable(tf.zeros(shape=[conv_num_outputs]))\n",
    "    conv_output = tf.nn.conv2d(x_tensor, \n",
    "                               weights, \n",
    "                               strides=[1, conv_strides[0], conv_strides[1], 1], \n",
    "                               padding='SAME')\n",
    "    conv_output = tf.nn.bias_add(conv_output, biases)\n",
    "    conv_output = tf.nn.relu(conv_output)\n",
    "    mp_output = tf.nn.max_pool(conv_output, \n",
    "                               ksize=[1, pool_ksize[0], pool_ksize[1], 1], \n",
    "                               strides=[1, pool_strides[0], pool_strides[1], 1], \n",
    "                               padding='SAME')\n",
    "    return mp_output \n",
    "\n",
    "\n",
    "\"\"\"\n",
    "DON'T MODIFY ANYTHING IN THIS CELL THAT IS BELOW THIS LINE\n",
    "\"\"\"\n",
    "tests.test_con_pool(conv2d_maxpool)"
   ]
  },
  {
   "cell_type": "markdown",
   "metadata": {
    "deletable": true,
    "editable": true
   },
   "source": [
    "### Flatten Layer\n",
    "Implement the `flatten` function to change the dimension of `x_tensor` from a 4-D tensor to a 2-D tensor.  The output should be the shape (*Batch Size*, *Flattened Image Size*). You can use [TensorFlow Layers](https://www.tensorflow.org/api_docs/python/tf/layers) or [TensorFlow Layers (contrib)](https://www.tensorflow.org/api_guides/python/contrib.layers) for this layer."
   ]
  },
  {
   "cell_type": "code",
   "execution_count": 50,
   "metadata": {
    "collapsed": false,
    "deletable": true,
    "editable": true
   },
   "outputs": [
    {
     "name": "stdout",
     "output_type": "stream",
     "text": [
      "Tests Passed\n"
     ]
    }
   ],
   "source": [
    "def flatten(x_tensor):\n",
    "    \"\"\"\n",
    "    Flatten x_tensor to (Batch Size, Flattened Image Size)\n",
    "    : x_tensor: A tensor of size (Batch Size, ...), where ... are the image dimensions.\n",
    "    : return: A tensor of size (Batch Size, Flattened Image Size).\n",
    "    \"\"\"\n",
    "    #batch_size = int(x_tensor.shape[0])\n",
    "    input_size = np.prod(x_tensor.get_shape().as_list()[1:])\n",
    "    return tf.reshape(tensor=x_tensor, shape=[-1, input_size])\n",
    "\n",
    "\n",
    "\"\"\"\n",
    "DON'T MODIFY ANYTHING IN THIS CELL THAT IS BELOW THIS LINE\n",
    "\"\"\"\n",
    "tests.test_flatten(flatten)"
   ]
  },
  {
   "cell_type": "markdown",
   "metadata": {
    "deletable": true,
    "editable": true
   },
   "source": [
    "### Fully-Connected Layer\n",
    "Implement the `fully_conn` function to apply a fully connected layer to `x_tensor` with the shape (*Batch Size*, *num_outputs*). You can use [TensorFlow Layers](https://www.tensorflow.org/api_docs/python/tf/layers) or [TensorFlow Layers (contrib)](https://www.tensorflow.org/api_guides/python/contrib.layers) for this layer."
   ]
  },
  {
   "cell_type": "code",
   "execution_count": 71,
   "metadata": {
    "collapsed": false,
    "deletable": true,
    "editable": true
   },
   "outputs": [
    {
     "name": "stdout",
     "output_type": "stream",
     "text": [
      "Tests Passed\n"
     ]
    }
   ],
   "source": [
    "def fully_conn(x_tensor, num_outputs):\n",
    "    \"\"\"\n",
    "    Apply a fully connected layer to x_tensor using weight and bias\n",
    "    : x_tensor: A 2-D tensor where the first dimension is batch size.\n",
    "    : num_outputs: The number of output that the new tensor should be.\n",
    "    : return: A 2-D tensor where the second dimension is num_outputs.\n",
    "    \"\"\"\n",
    "    \n",
    "    # assuming 2D input shape of (batch_size, input_width)\n",
    "    input_width = int(x_tensor.shape[1])\n",
    "    # print('fc: input width =', input_width)\n",
    "    scale = input_width**(-0.5)\n",
    "    weights = tf.Variable(tf.truncated_normal(shape=(input_width, num_outputs), stddev=scale))\n",
    "    biases = tf.Variable(tf.zeros(shape=num_outputs))\n",
    "    fc_output = tf.matmul(x_tensor, weights) + biases\n",
    "    return tf.nn.relu(fc_output)\n",
    "\n",
    "\"\"\"\n",
    "DON'T MODIFY ANYTHING IN THIS CELL THAT IS BELOW THIS LINE\n",
    "\"\"\"\n",
    "tests.test_fully_conn(fully_conn)"
   ]
  },
  {
   "cell_type": "markdown",
   "metadata": {
    "deletable": true,
    "editable": true
   },
   "source": [
    "### Output Layer\n",
    "Implement the `output` function to apply a fully connected layer to `x_tensor` with the shape (*Batch Size*, *num_outputs*). You can use [TensorFlow Layers](https://www.tensorflow.org/api_docs/python/tf/layers) or [TensorFlow Layers (contrib)](https://www.tensorflow.org/api_guides/python/contrib.layers) for this layer.\n",
    "\n",
    "Note: Activation, softmax, or cross entropy shouldn't be applied to this."
   ]
  },
  {
   "cell_type": "code",
   "execution_count": 72,
   "metadata": {
    "collapsed": false,
    "deletable": true,
    "editable": true
   },
   "outputs": [
    {
     "name": "stdout",
     "output_type": "stream",
     "text": [
      "Tests Passed\n"
     ]
    }
   ],
   "source": [
    "def output(x_tensor, num_outputs):\n",
    "    \"\"\"\n",
    "    Apply a output layer to x_tensor using weight and bias\n",
    "    : x_tensor: A 2-D tensor where the first dimension is batch size.\n",
    "    : num_outputs: The number of output that the new tensor should be.\n",
    "    : return: A 2-D tensor where the second dimension is num_outputs.\n",
    "    \"\"\"\n",
    "    \n",
    "    # assuming 2D input shape of (batch_size, input_width)\n",
    "    input_width = int(x_tensor.shape[1])\n",
    "    # print('output: input width =', input_width)\n",
    "    scale = input_width**(-0.5)\n",
    "    weights = tf.Variable(tf.truncated_normal(shape=(input_width, num_outputs), stddev=scale))\n",
    "    biases = tf.Variable(tf.zeros(shape=num_outputs))\n",
    "    return tf.matmul(x_tensor, weights) + biases\n",
    "\n",
    "\"\"\"\n",
    "DON'T MODIFY ANYTHING IN THIS CELL THAT IS BELOW THIS LINE\n",
    "\"\"\"\n",
    "tests.test_output(output)"
   ]
  },
  {
   "cell_type": "markdown",
   "metadata": {
    "deletable": true,
    "editable": true
   },
   "source": [
    "### Create Convolutional Model\n",
    "Implement the function `conv_net` to create a convolutional neural network model. The function takes in a batch of images, `x`, and outputs logits.  Use the layers you created above to create this model:\n",
    "\n",
    "* Apply 1, 2, or 3 Convolution and Max Pool layers\n",
    "* Apply a Flatten Layer\n",
    "* Apply 1, 2, or 3 Fully Connected Layers\n",
    "* Apply an Output Layer\n",
    "* Return the output\n",
    "* Apply [TensorFlow's Dropout](https://www.tensorflow.org/api_docs/python/tf/nn/dropout) to one or more layers in the model using `keep_prob`. "
   ]
  },
  {
   "cell_type": "code",
   "execution_count": 83,
   "metadata": {
    "collapsed": false,
    "deletable": true,
    "editable": true
   },
   "outputs": [
    {
     "name": "stdout",
     "output_type": "stream",
     "text": [
      "Neural Network Built!\n"
     ]
    }
   ],
   "source": [
    "def conv_net(x, keep_prob):\n",
    "    \"\"\"\n",
    "    Create a convolutional neural network model\n",
    "    : x: Placeholder tensor that holds image data.\n",
    "    : keep_prob: Placeholder tensor that hold dropout keep probability.\n",
    "    : return: Tensor that represents logits\n",
    "    \"\"\"\n",
    "    # TODO: Apply 1, 2, or 3 Convolution and Max Pool layers\n",
    "    #    Play around with different number of outputs, kernel size and stride\n",
    "    # Function Definition from Above:\n",
    "    #    conv2d_maxpool(x_tensor, conv_num_outputs, conv_ksize, conv_strides, pool_ksize, pool_strides)\n",
    "    \n",
    "    # output should be ~(16, 16, 32)\n",
    "    layer_1 = conv2d_maxpool(x_tensor=x, \n",
    "                             conv_num_outputs=16, \n",
    "                             conv_ksize=(3, 3), \n",
    "                             conv_strides=(1, 1), \n",
    "                             pool_ksize=(2, 2), \n",
    "                             pool_strides=(2,2))\n",
    "\n",
    "    # output should be ~(8, 8, 64)\n",
    "    layer_2 = conv2d_maxpool(x_tensor=layer_1, \n",
    "                             conv_num_outputs=32, \n",
    "                             conv_ksize=(3, 3), \n",
    "                             conv_strides=(1, 1), \n",
    "                             pool_ksize=(2, 2), \n",
    "                             pool_strides=(2,2))\n",
    "\n",
    "    # output should be ~(4, 4, 128)\n",
    "    layer_3 = conv2d_maxpool(x_tensor=layer_2, \n",
    "                             conv_num_outputs=128, \n",
    "                             conv_ksize=(3, 3), \n",
    "                             conv_strides=(1, 1), \n",
    "                             pool_ksize=(2, 2), \n",
    "                             pool_strides=(2,2))\n",
    "\n",
    "    # TODO: Apply a Flatten Layer\n",
    "    # Function Definition from Above:\n",
    "    #   flatten(x_tensor)\n",
    "    \n",
    "    l3_flat = flatten(x_tensor=layer_3)\n",
    "\n",
    "    # TODO: Apply 1, 2, or 3 Fully Connected Layers\n",
    "    #    Play around with different number of outputs\n",
    "    # Function Definition from Above:\n",
    "    #   fully_conn(x_tensor, num_outputs)\n",
    "    \n",
    "    # layer 3 consists of 4*4*128 = 2048 neurons \n",
    "    # I read that size of next layer should be sqrt(2048) to 2048/2\n",
    "    # but since we will be using drop-out, I believe layer width \n",
    "    # should be adjusted accordingly\n",
    "    fc_1_width = int((4*4*128)**(0.5))*4\n",
    "    fc_1 = fully_conn(x_tensor=l3_flat, num_outputs=fc_1_width)\n",
    "    fc_1 = tf.nn.dropout(x=fc_1, keep_prob=keep_prob)\n",
    "    \n",
    "    fc_2_width = int(fc_1_width**(0.5))*4\n",
    "    fc_2 = fully_conn(x_tensor=fc_1, num_outputs=fc_2_width)\n",
    "    fc_2 = tf.nn.dropout(x=fc_2, keep_prob=keep_prob)\n",
    "    \n",
    "    # TODO: Apply an Output Layer\n",
    "    #    Set this to the number of classes\n",
    "    # Function Definition from Above:\n",
    "    #   output(x_tensor, num_outputs)\n",
    "    \n",
    "    # TODO: return output\n",
    "    return output(x_tensor=fc_2, num_outputs=10)\n",
    "\n",
    "\n",
    "\"\"\"\n",
    "DON'T MODIFY ANYTHING IN THIS CELL THAT IS BELOW THIS LINE\n",
    "\"\"\"\n",
    "\n",
    "##############################\n",
    "## Build the Neural Network ##\n",
    "##############################\n",
    "\n",
    "# Remove previous weights, bias, inputs, etc..\n",
    "tf.reset_default_graph()\n",
    "\n",
    "# Inputs\n",
    "x = neural_net_image_input((32, 32, 3))\n",
    "y = neural_net_label_input(10)\n",
    "keep_prob = neural_net_keep_prob_input()\n",
    "\n",
    "# Model\n",
    "logits = conv_net(x, keep_prob)\n",
    "\n",
    "# Name logits Tensor, so that is can be loaded from disk after training\n",
    "logits = tf.identity(logits, name='logits')\n",
    "\n",
    "# Loss and Optimizer\n",
    "cost = tf.reduce_mean(tf.nn.softmax_cross_entropy_with_logits(logits=logits, labels=y))\n",
    "optimizer = tf.train.AdamOptimizer().minimize(cost)\n",
    "\n",
    "# Accuracy\n",
    "correct_pred = tf.equal(tf.argmax(logits, 1), tf.argmax(y, 1))\n",
    "accuracy = tf.reduce_mean(tf.cast(correct_pred, tf.float32), name='accuracy')\n",
    "\n",
    "tests.test_conv_net(conv_net)"
   ]
  },
  {
   "cell_type": "markdown",
   "metadata": {
    "deletable": true,
    "editable": true
   },
   "source": [
    "## Train the Neural Network\n",
    "### Single Optimization\n",
    "Implement the function `train_neural_network` to do a single optimization.  The optimization should use `optimizer` to optimize in `session` with a `feed_dict` of the following:\n",
    "* `x` for image input\n",
    "* `y` for labels\n",
    "* `keep_prob` for keep probability for dropout\n",
    "\n",
    "This function will be called for each batch, so `tf.global_variables_initializer()` has already been called.\n",
    "\n",
    "Note: Nothing needs to be returned. This function is only optimizing the neural network."
   ]
  },
  {
   "cell_type": "code",
   "execution_count": 84,
   "metadata": {
    "collapsed": false,
    "deletable": true,
    "editable": true
   },
   "outputs": [
    {
     "name": "stdout",
     "output_type": "stream",
     "text": [
      "Tests Passed\n"
     ]
    }
   ],
   "source": [
    "def train_neural_network(session, optimizer, keep_probability, feature_batch, label_batch):\n",
    "    \"\"\"\n",
    "    Optimize the session on a batch of images and labels\n",
    "    : session: Current TensorFlow session\n",
    "    : optimizer: TensorFlow optimizer function\n",
    "    : keep_probability: keep probability\n",
    "    : feature_batch: Batch of Numpy image data\n",
    "    : label_batch: Batch of Numpy label data\n",
    "    \"\"\"\n",
    "    # TODO: Implement Function\n",
    "    session.run(optimizer, feed_dict={x: feature_batch,\n",
    "                                      y: label_batch,\n",
    "                                      keep_prob: keep_probability})\n",
    "\n",
    "\n",
    "\"\"\"\n",
    "DON'T MODIFY ANYTHING IN THIS CELL THAT IS BELOW THIS LINE\n",
    "\"\"\"\n",
    "tests.test_train_nn(train_neural_network)"
   ]
  },
  {
   "cell_type": "markdown",
   "metadata": {
    "deletable": true,
    "editable": true
   },
   "source": [
    "### Show Stats\n",
    "Implement the function `print_stats` to print loss and validation accuracy.  Use the global variables `valid_features` and `valid_labels` to calculate validation accuracy.  Use a keep probability of `1.0` to calculate the loss and validation accuracy."
   ]
  },
  {
   "cell_type": "code",
   "execution_count": 75,
   "metadata": {
    "collapsed": false,
    "deletable": true,
    "editable": true
   },
   "outputs": [],
   "source": [
    "def print_stats(session, feature_batch, label_batch, cost, accuracy):\n",
    "    \"\"\"\n",
    "    Print information about loss and validation accuracy\n",
    "    : session: Current TensorFlow session\n",
    "    : feature_batch: Batch of Numpy image data\n",
    "    : label_batch: Batch of Numpy label data\n",
    "    : cost: TensorFlow cost function\n",
    "    : accuracy: TensorFlow accuracy function\n",
    "    \"\"\"\n",
    "    # TODO: Implement Function\n",
    "    loss = session.run(cost, feed_dict={x: feature_batch,\n",
    "                                        y: label_batch,\n",
    "                                        keep_prob: 1.0})\n",
    "    \n",
    "    valid_acc = session.run(accuracy, feed_dict={x: valid_features,\n",
    "                                                 y: valid_labels,\n",
    "                                                 keep_prob: 1.0})\n",
    "    \n",
    "    print('Loss: {:.4f} Validation Accuracy: {:.6f}'.format(loss, valid_acc))"
   ]
  },
  {
   "cell_type": "markdown",
   "metadata": {
    "deletable": true,
    "editable": true
   },
   "source": [
    "### Hyperparameters\n",
    "Tune the following parameters:\n",
    "* Set `epochs` to the number of iterations until the network stops learning or start overfitting\n",
    "* Set `batch_size` to the highest number that your machine has memory for.  Most people set them to common sizes of memory:\n",
    " * 64\n",
    " * 128\n",
    " * 256\n",
    " * ...\n",
    "* Set `keep_probability` to the probability of keeping a node using dropout"
   ]
  },
  {
   "cell_type": "code",
   "execution_count": 81,
   "metadata": {
    "collapsed": true,
    "deletable": true,
    "editable": true
   },
   "outputs": [],
   "source": [
    "# TODO: Tune Parameters\n",
    "epochs = 30\n",
    "batch_size = 2048\n",
    "keep_probability = 0.5"
   ]
  },
  {
   "cell_type": "markdown",
   "metadata": {
    "deletable": true,
    "editable": true
   },
   "source": [
    "### Train on a Single CIFAR-10 Batch\n",
    "Instead of training the neural network on all the CIFAR-10 batches of data, let's use a single batch. This should save time while you iterate on the model to get a better accuracy.  Once the final validation accuracy is 50% or greater, run the model on all the data in the next section."
   ]
  },
  {
   "cell_type": "code",
   "execution_count": 85,
   "metadata": {
    "collapsed": false,
    "deletable": true,
    "editable": true
   },
   "outputs": [
    {
     "name": "stdout",
     "output_type": "stream",
     "text": [
      "Checking the Training on a Single Batch...\n",
      "Epoch  1, CIFAR-10 Batch 1:  Loss: 2.2911 Validation Accuracy: 0.142200\n",
      "Epoch  2, CIFAR-10 Batch 1:  Loss: 2.2646 Validation Accuracy: 0.174600\n",
      "Epoch  3, CIFAR-10 Batch 1:  Loss: 2.2062 Validation Accuracy: 0.247000\n",
      "Epoch  4, CIFAR-10 Batch 1:  Loss: 2.1259 Validation Accuracy: 0.255200\n",
      "Epoch  5, CIFAR-10 Batch 1:  Loss: 2.0622 Validation Accuracy: 0.278600\n",
      "Epoch  6, CIFAR-10 Batch 1:  Loss: 2.0199 Validation Accuracy: 0.292000\n",
      "Epoch  7, CIFAR-10 Batch 1:  Loss: 1.9522 Validation Accuracy: 0.300000\n",
      "Epoch  8, CIFAR-10 Batch 1:  Loss: 1.9088 Validation Accuracy: 0.325800\n",
      "Epoch  9, CIFAR-10 Batch 1:  Loss: 1.8681 Validation Accuracy: 0.330200\n",
      "Epoch 10, CIFAR-10 Batch 1:  Loss: 1.8364 Validation Accuracy: 0.349400\n",
      "Epoch 11, CIFAR-10 Batch 1:  Loss: 1.8008 Validation Accuracy: 0.368800\n",
      "Epoch 12, CIFAR-10 Batch 1:  Loss: 1.7516 Validation Accuracy: 0.381600\n",
      "Epoch 13, CIFAR-10 Batch 1:  Loss: 1.7657 Validation Accuracy: 0.370600\n",
      "Epoch 14, CIFAR-10 Batch 1:  Loss: 1.7331 Validation Accuracy: 0.382200\n",
      "Epoch 15, CIFAR-10 Batch 1:  Loss: 1.6763 Validation Accuracy: 0.395400\n",
      "Epoch 16, CIFAR-10 Batch 1:  Loss: 1.6542 Validation Accuracy: 0.412000\n",
      "Epoch 17, CIFAR-10 Batch 1:  Loss: 1.6250 Validation Accuracy: 0.411000\n",
      "Epoch 18, CIFAR-10 Batch 1:  Loss: 1.6096 Validation Accuracy: 0.403400\n",
      "Epoch 19, CIFAR-10 Batch 1:  Loss: 1.6101 Validation Accuracy: 0.403600\n",
      "Epoch 20, CIFAR-10 Batch 1:  Loss: 1.5874 Validation Accuracy: 0.409400\n",
      "Epoch 21, CIFAR-10 Batch 1:  Loss: 1.5371 Validation Accuracy: 0.423600\n",
      "Epoch 22, CIFAR-10 Batch 1:  Loss: 1.5197 Validation Accuracy: 0.432600\n",
      "Epoch 23, CIFAR-10 Batch 1:  Loss: 1.5180 Validation Accuracy: 0.429400\n",
      "Epoch 24, CIFAR-10 Batch 1:  Loss: 1.4975 Validation Accuracy: 0.430400\n",
      "Epoch 25, CIFAR-10 Batch 1:  Loss: 1.4624 Validation Accuracy: 0.442800\n",
      "Epoch 26, CIFAR-10 Batch 1:  Loss: 1.4606 Validation Accuracy: 0.445800\n",
      "Epoch 27, CIFAR-10 Batch 1:  Loss: 1.4434 Validation Accuracy: 0.450800\n",
      "Epoch 28, CIFAR-10 Batch 1:  Loss: 1.4295 Validation Accuracy: 0.448200\n",
      "Epoch 29, CIFAR-10 Batch 1:  Loss: 1.4166 Validation Accuracy: 0.452000\n",
      "Epoch 30, CIFAR-10 Batch 1:  Loss: 1.4086 Validation Accuracy: 0.450400\n",
      "CPU times: user 8min 4s, sys: 3min 28s, total: 11min 33s\n",
      "Wall time: 4min 9s\n"
     ]
    }
   ],
   "source": [
    "%%time\n",
    "\n",
    "\"\"\"\n",
    "DON'T MODIFY ANYTHING IN THIS CELL\n",
    "\"\"\"\n",
    "print('Checking the Training on a Single Batch...')\n",
    "with tf.Session() as sess:\n",
    "    # Initializing the variables\n",
    "    sess.run(tf.global_variables_initializer())\n",
    "    \n",
    "    # Training cycle\n",
    "    for epoch in range(epochs):\n",
    "        batch_i = 1\n",
    "        for batch_features, batch_labels in helper.load_preprocess_training_batch(batch_i, batch_size):\n",
    "            train_neural_network(sess, optimizer, keep_probability, batch_features, batch_labels)\n",
    "        print('Epoch {:>2}, CIFAR-10 Batch {}:  '.format(epoch + 1, batch_i), end='')\n",
    "        print_stats(sess, batch_features, batch_labels, cost, accuracy)"
   ]
  },
  {
   "cell_type": "markdown",
   "metadata": {
    "deletable": true,
    "editable": true
   },
   "source": [
    "### Fully Train the Model\n",
    "Now that you got a good accuracy with a single CIFAR-10 batch, try it with all five batches."
   ]
  },
  {
   "cell_type": "code",
   "execution_count": 86,
   "metadata": {
    "collapsed": false,
    "deletable": true,
    "editable": true,
    "scrolled": true
   },
   "outputs": [
    {
     "name": "stdout",
     "output_type": "stream",
     "text": [
      "Training...\n",
      "Epoch  1, CIFAR-10 Batch 1:  Loss: 2.2874 Validation Accuracy: 0.138200\n",
      "Epoch  1, CIFAR-10 Batch 2:  Loss: 2.2451 Validation Accuracy: 0.215000\n",
      "Epoch  1, CIFAR-10 Batch 3:  Loss: 2.1647 Validation Accuracy: 0.217600\n",
      "Epoch  1, CIFAR-10 Batch 4:  Loss: 2.0562 Validation Accuracy: 0.215800\n",
      "Epoch  1, CIFAR-10 Batch 5:  Loss: 2.0068 Validation Accuracy: 0.238800\n",
      "Epoch  2, CIFAR-10 Batch 1:  Loss: 1.9927 Validation Accuracy: 0.285800\n",
      "Epoch  2, CIFAR-10 Batch 2:  Loss: 1.9542 Validation Accuracy: 0.313200\n",
      "Epoch  2, CIFAR-10 Batch 3:  Loss: 1.8813 Validation Accuracy: 0.314200\n",
      "Epoch  2, CIFAR-10 Batch 4:  Loss: 1.8376 Validation Accuracy: 0.337000\n",
      "Epoch  2, CIFAR-10 Batch 5:  Loss: 1.8529 Validation Accuracy: 0.360800\n",
      "Epoch  3, CIFAR-10 Batch 1:  Loss: 1.8152 Validation Accuracy: 0.357200\n",
      "Epoch  3, CIFAR-10 Batch 2:  Loss: 1.8028 Validation Accuracy: 0.371800\n",
      "Epoch  3, CIFAR-10 Batch 3:  Loss: 1.7165 Validation Accuracy: 0.391400\n",
      "Epoch  3, CIFAR-10 Batch 4:  Loss: 1.6809 Validation Accuracy: 0.395200\n",
      "Epoch  3, CIFAR-10 Batch 5:  Loss: 1.7339 Validation Accuracy: 0.404200\n",
      "Epoch  4, CIFAR-10 Batch 1:  Loss: 1.6807 Validation Accuracy: 0.414200\n",
      "Epoch  4, CIFAR-10 Batch 2:  Loss: 1.6763 Validation Accuracy: 0.407000\n",
      "Epoch  4, CIFAR-10 Batch 3:  Loss: 1.6410 Validation Accuracy: 0.406800\n",
      "Epoch  4, CIFAR-10 Batch 4:  Loss: 1.5969 Validation Accuracy: 0.426600\n",
      "Epoch  4, CIFAR-10 Batch 5:  Loss: 1.6310 Validation Accuracy: 0.422000\n",
      "Epoch  5, CIFAR-10 Batch 1:  Loss: 1.6211 Validation Accuracy: 0.424800\n",
      "Epoch  5, CIFAR-10 Batch 2:  Loss: 1.6113 Validation Accuracy: 0.425400\n",
      "Epoch  5, CIFAR-10 Batch 3:  Loss: 1.5682 Validation Accuracy: 0.427200\n",
      "Epoch  5, CIFAR-10 Batch 4:  Loss: 1.5258 Validation Accuracy: 0.440400\n",
      "Epoch  5, CIFAR-10 Batch 5:  Loss: 1.5653 Validation Accuracy: 0.440200\n",
      "Epoch  6, CIFAR-10 Batch 1:  Loss: 1.5296 Validation Accuracy: 0.447800\n",
      "Epoch  6, CIFAR-10 Batch 2:  Loss: 1.5357 Validation Accuracy: 0.453000\n",
      "Epoch  6, CIFAR-10 Batch 3:  Loss: 1.4891 Validation Accuracy: 0.462800\n",
      "Epoch  6, CIFAR-10 Batch 4:  Loss: 1.4642 Validation Accuracy: 0.453400\n",
      "Epoch  6, CIFAR-10 Batch 5:  Loss: 1.4917 Validation Accuracy: 0.463000\n",
      "Epoch  7, CIFAR-10 Batch 1:  Loss: 1.4706 Validation Accuracy: 0.465800\n",
      "Epoch  7, CIFAR-10 Batch 2:  Loss: 1.4871 Validation Accuracy: 0.472200\n",
      "Epoch  7, CIFAR-10 Batch 3:  Loss: 1.4147 Validation Accuracy: 0.472000\n",
      "Epoch  7, CIFAR-10 Batch 4:  Loss: 1.4038 Validation Accuracy: 0.470600\n",
      "Epoch  7, CIFAR-10 Batch 5:  Loss: 1.4380 Validation Accuracy: 0.474000\n",
      "Epoch  8, CIFAR-10 Batch 1:  Loss: 1.4106 Validation Accuracy: 0.486200\n",
      "Epoch  8, CIFAR-10 Batch 2:  Loss: 1.4284 Validation Accuracy: 0.493000\n",
      "Epoch  8, CIFAR-10 Batch 3:  Loss: 1.3743 Validation Accuracy: 0.486600\n",
      "Epoch  8, CIFAR-10 Batch 4:  Loss: 1.3438 Validation Accuracy: 0.495400\n",
      "Epoch  8, CIFAR-10 Batch 5:  Loss: 1.3754 Validation Accuracy: 0.488200\n",
      "Epoch  9, CIFAR-10 Batch 1:  Loss: 1.3713 Validation Accuracy: 0.493800\n",
      "Epoch  9, CIFAR-10 Batch 2:  Loss: 1.4099 Validation Accuracy: 0.492200\n",
      "Epoch  9, CIFAR-10 Batch 3:  Loss: 1.3538 Validation Accuracy: 0.497800\n",
      "Epoch  9, CIFAR-10 Batch 4:  Loss: 1.3275 Validation Accuracy: 0.482600\n",
      "Epoch  9, CIFAR-10 Batch 5:  Loss: 1.3808 Validation Accuracy: 0.486600\n",
      "Epoch 10, CIFAR-10 Batch 1:  Loss: 1.3711 Validation Accuracy: 0.491800\n",
      "Epoch 10, CIFAR-10 Batch 2:  Loss: 1.3546 Validation Accuracy: 0.509800\n",
      "Epoch 10, CIFAR-10 Batch 3:  Loss: 1.2691 Validation Accuracy: 0.518800\n",
      "Epoch 10, CIFAR-10 Batch 4:  Loss: 1.2639 Validation Accuracy: 0.519000\n",
      "Epoch 10, CIFAR-10 Batch 5:  Loss: 1.2962 Validation Accuracy: 0.519600\n",
      "Epoch 11, CIFAR-10 Batch 1:  Loss: 1.2945 Validation Accuracy: 0.515000\n",
      "Epoch 11, CIFAR-10 Batch 2:  Loss: 1.3113 Validation Accuracy: 0.518400\n",
      "Epoch 11, CIFAR-10 Batch 3:  Loss: 1.2450 Validation Accuracy: 0.517000\n",
      "Epoch 11, CIFAR-10 Batch 4:  Loss: 1.2350 Validation Accuracy: 0.524400\n",
      "Epoch 11, CIFAR-10 Batch 5:  Loss: 1.2551 Validation Accuracy: 0.528400\n",
      "Epoch 12, CIFAR-10 Batch 1:  Loss: 1.2582 Validation Accuracy: 0.532800\n",
      "Epoch 12, CIFAR-10 Batch 2:  Loss: 1.2720 Validation Accuracy: 0.534400\n",
      "Epoch 12, CIFAR-10 Batch 3:  Loss: 1.2106 Validation Accuracy: 0.530400\n",
      "Epoch 12, CIFAR-10 Batch 4:  Loss: 1.1897 Validation Accuracy: 0.536200\n",
      "Epoch 12, CIFAR-10 Batch 5:  Loss: 1.2038 Validation Accuracy: 0.536600\n",
      "Epoch 13, CIFAR-10 Batch 1:  Loss: 1.2313 Validation Accuracy: 0.534800\n",
      "Epoch 13, CIFAR-10 Batch 2:  Loss: 1.2782 Validation Accuracy: 0.526400\n",
      "Epoch 13, CIFAR-10 Batch 3:  Loss: 1.1811 Validation Accuracy: 0.540800\n",
      "Epoch 13, CIFAR-10 Batch 4:  Loss: 1.1577 Validation Accuracy: 0.539200\n",
      "Epoch 13, CIFAR-10 Batch 5:  Loss: 1.1979 Validation Accuracy: 0.542000\n",
      "Epoch 14, CIFAR-10 Batch 1:  Loss: 1.2208 Validation Accuracy: 0.539600\n",
      "Epoch 14, CIFAR-10 Batch 2:  Loss: 1.2161 Validation Accuracy: 0.554000\n",
      "Epoch 14, CIFAR-10 Batch 3:  Loss: 1.1324 Validation Accuracy: 0.553600\n",
      "Epoch 14, CIFAR-10 Batch 4:  Loss: 1.1251 Validation Accuracy: 0.555400\n",
      "Epoch 14, CIFAR-10 Batch 5:  Loss: 1.1426 Validation Accuracy: 0.556600\n",
      "Epoch 15, CIFAR-10 Batch 1:  Loss: 1.1760 Validation Accuracy: 0.550000\n",
      "Epoch 15, CIFAR-10 Batch 2:  Loss: 1.1792 Validation Accuracy: 0.561600\n",
      "Epoch 15, CIFAR-10 Batch 3:  Loss: 1.1066 Validation Accuracy: 0.550600\n",
      "Epoch 15, CIFAR-10 Batch 4:  Loss: 1.1043 Validation Accuracy: 0.549000\n",
      "Epoch 15, CIFAR-10 Batch 5:  Loss: 1.1432 Validation Accuracy: 0.553200\n",
      "Epoch 16, CIFAR-10 Batch 1:  Loss: 1.1457 Validation Accuracy: 0.555000\n",
      "Epoch 16, CIFAR-10 Batch 2:  Loss: 1.1763 Validation Accuracy: 0.544600\n",
      "Epoch 16, CIFAR-10 Batch 3:  Loss: 1.1097 Validation Accuracy: 0.550000\n",
      "Epoch 16, CIFAR-10 Batch 4:  Loss: 1.0690 Validation Accuracy: 0.562000\n",
      "Epoch 16, CIFAR-10 Batch 5:  Loss: 1.1173 Validation Accuracy: 0.562400\n",
      "Epoch 17, CIFAR-10 Batch 1:  Loss: 1.1335 Validation Accuracy: 0.566000\n",
      "Epoch 17, CIFAR-10 Batch 2:  Loss: 1.1382 Validation Accuracy: 0.568800\n",
      "Epoch 17, CIFAR-10 Batch 3:  Loss: 1.0581 Validation Accuracy: 0.574000\n",
      "Epoch 17, CIFAR-10 Batch 4:  Loss: 1.0318 Validation Accuracy: 0.573000\n",
      "Epoch 17, CIFAR-10 Batch 5:  Loss: 1.0650 Validation Accuracy: 0.579200\n",
      "Epoch 18, CIFAR-10 Batch 1:  Loss: 1.0849 Validation Accuracy: 0.574000\n",
      "Epoch 18, CIFAR-10 Batch 2:  Loss: 1.0961 Validation Accuracy: 0.573200\n",
      "Epoch 18, CIFAR-10 Batch 3:  Loss: 1.0195 Validation Accuracy: 0.579600\n",
      "Epoch 18, CIFAR-10 Batch 4:  Loss: 0.9990 Validation Accuracy: 0.582600\n",
      "Epoch 18, CIFAR-10 Batch 5:  Loss: 1.0432 Validation Accuracy: 0.581800\n",
      "Epoch 19, CIFAR-10 Batch 1:  Loss: 1.0519 Validation Accuracy: 0.583800\n",
      "Epoch 19, CIFAR-10 Batch 2:  Loss: 1.0607 Validation Accuracy: 0.584600\n",
      "Epoch 19, CIFAR-10 Batch 3:  Loss: 0.9847 Validation Accuracy: 0.585600\n",
      "Epoch 19, CIFAR-10 Batch 4:  Loss: 0.9872 Validation Accuracy: 0.586000\n",
      "Epoch 19, CIFAR-10 Batch 5:  Loss: 1.0171 Validation Accuracy: 0.590600\n",
      "Epoch 20, CIFAR-10 Batch 1:  Loss: 1.0344 Validation Accuracy: 0.591200\n",
      "Epoch 20, CIFAR-10 Batch 2:  Loss: 1.0562 Validation Accuracy: 0.579800\n",
      "Epoch 20, CIFAR-10 Batch 3:  Loss: 0.9886 Validation Accuracy: 0.587000\n",
      "Epoch 20, CIFAR-10 Batch 4:  Loss: 0.9605 Validation Accuracy: 0.591000\n",
      "Epoch 20, CIFAR-10 Batch 5:  Loss: 1.0115 Validation Accuracy: 0.583800\n",
      "Epoch 21, CIFAR-10 Batch 1:  Loss: 1.0180 Validation Accuracy: 0.585800\n",
      "Epoch 21, CIFAR-10 Batch 2:  Loss: 1.0301 Validation Accuracy: 0.594400\n",
      "Epoch 21, CIFAR-10 Batch 3:  Loss: 0.9513 Validation Accuracy: 0.596000\n",
      "Epoch 21, CIFAR-10 Batch 4:  Loss: 0.9319 Validation Accuracy: 0.604200\n",
      "Epoch 21, CIFAR-10 Batch 5:  Loss: 0.9704 Validation Accuracy: 0.602600\n",
      "Epoch 22, CIFAR-10 Batch 1:  Loss: 1.0008 Validation Accuracy: 0.596000\n",
      "Epoch 22, CIFAR-10 Batch 2:  Loss: 1.0120 Validation Accuracy: 0.592800\n",
      "Epoch 22, CIFAR-10 Batch 3:  Loss: 0.9497 Validation Accuracy: 0.596400\n",
      "Epoch 22, CIFAR-10 Batch 4:  Loss: 0.9331 Validation Accuracy: 0.602200\n",
      "Epoch 22, CIFAR-10 Batch 5:  Loss: 0.9640 Validation Accuracy: 0.597600\n",
      "Epoch 23, CIFAR-10 Batch 1:  Loss: 1.0072 Validation Accuracy: 0.599600\n",
      "Epoch 23, CIFAR-10 Batch 2:  Loss: 1.0021 Validation Accuracy: 0.591000\n",
      "Epoch 23, CIFAR-10 Batch 3:  Loss: 0.9588 Validation Accuracy: 0.585600\n",
      "Epoch 23, CIFAR-10 Batch 4:  Loss: 0.9352 Validation Accuracy: 0.582600\n",
      "Epoch 23, CIFAR-10 Batch 5:  Loss: 0.9537 Validation Accuracy: 0.598800\n",
      "Epoch 24, CIFAR-10 Batch 1:  Loss: 0.9799 Validation Accuracy: 0.602600\n",
      "Epoch 24, CIFAR-10 Batch 2:  Loss: 0.9804 Validation Accuracy: 0.603200\n",
      "Epoch 24, CIFAR-10 Batch 3:  Loss: 0.9400 Validation Accuracy: 0.601200\n",
      "Epoch 24, CIFAR-10 Batch 4:  Loss: 0.8829 Validation Accuracy: 0.610000\n",
      "Epoch 24, CIFAR-10 Batch 5:  Loss: 0.9285 Validation Accuracy: 0.611000\n",
      "Epoch 25, CIFAR-10 Batch 1:  Loss: 0.9446 Validation Accuracy: 0.609400\n",
      "Epoch 25, CIFAR-10 Batch 2:  Loss: 0.9449 Validation Accuracy: 0.609400\n",
      "Epoch 25, CIFAR-10 Batch 3:  Loss: 0.8861 Validation Accuracy: 0.613800\n",
      "Epoch 25, CIFAR-10 Batch 4:  Loss: 0.8965 Validation Accuracy: 0.600800\n",
      "Epoch 25, CIFAR-10 Batch 5:  Loss: 0.9230 Validation Accuracy: 0.605800\n",
      "Epoch 26, CIFAR-10 Batch 1:  Loss: 0.9703 Validation Accuracy: 0.608800\n",
      "Epoch 26, CIFAR-10 Batch 2:  Loss: 0.9416 Validation Accuracy: 0.605800\n",
      "Epoch 26, CIFAR-10 Batch 3:  Loss: 0.8863 Validation Accuracy: 0.620000\n",
      "Epoch 26, CIFAR-10 Batch 4:  Loss: 0.8570 Validation Accuracy: 0.618000\n",
      "Epoch 26, CIFAR-10 Batch 5:  Loss: 0.9010 Validation Accuracy: 0.607800\n",
      "Epoch 27, CIFAR-10 Batch 1:  Loss: 0.9019 Validation Accuracy: 0.619800\n",
      "Epoch 27, CIFAR-10 Batch 2:  Loss: 0.9232 Validation Accuracy: 0.616200\n",
      "Epoch 27, CIFAR-10 Batch 3:  Loss: 0.8604 Validation Accuracy: 0.617000\n",
      "Epoch 27, CIFAR-10 Batch 4:  Loss: 0.8377 Validation Accuracy: 0.616400\n",
      "Epoch 27, CIFAR-10 Batch 5:  Loss: 0.8520 Validation Accuracy: 0.628200\n",
      "Epoch 28, CIFAR-10 Batch 1:  Loss: 0.8757 Validation Accuracy: 0.627000\n",
      "Epoch 28, CIFAR-10 Batch 2:  Loss: 0.8833 Validation Accuracy: 0.624600\n",
      "Epoch 28, CIFAR-10 Batch 3:  Loss: 0.8324 Validation Accuracy: 0.625400\n",
      "Epoch 28, CIFAR-10 Batch 4:  Loss: 0.7935 Validation Accuracy: 0.629800\n",
      "Epoch 28, CIFAR-10 Batch 5:  Loss: 0.8412 Validation Accuracy: 0.633600\n",
      "Epoch 29, CIFAR-10 Batch 1:  Loss: 0.8496 Validation Accuracy: 0.634200\n",
      "Epoch 29, CIFAR-10 Batch 2:  Loss: 0.8485 Validation Accuracy: 0.629800\n",
      "Epoch 29, CIFAR-10 Batch 3:  Loss: 0.8225 Validation Accuracy: 0.636200\n",
      "Epoch 29, CIFAR-10 Batch 4:  Loss: 0.8014 Validation Accuracy: 0.620000\n",
      "Epoch 29, CIFAR-10 Batch 5:  Loss: 0.8200 Validation Accuracy: 0.632000\n",
      "Epoch 30, CIFAR-10 Batch 1:  Loss: 0.8662 Validation Accuracy: 0.635600\n",
      "Epoch 30, CIFAR-10 Batch 2:  Loss: 0.8487 Validation Accuracy: 0.620200\n",
      "Epoch 30, CIFAR-10 Batch 3:  Loss: 0.8082 Validation Accuracy: 0.632000\n",
      "Epoch 30, CIFAR-10 Batch 4:  Loss: 0.7935 Validation Accuracy: 0.631400\n",
      "Epoch 30, CIFAR-10 Batch 5:  Loss: 0.8069 Validation Accuracy: 0.635600\n"
     ]
    }
   ],
   "source": [
    "%%time\n",
    "\n",
    "\"\"\"\n",
    "DON'T MODIFY ANYTHING IN THIS CELL\n",
    "\"\"\"\n",
    "save_model_path = './image_classification'\n",
    "\n",
    "print('Training...')\n",
    "with tf.Session() as sess:\n",
    "    # Initializing the variables\n",
    "    sess.run(tf.global_variables_initializer())\n",
    "    \n",
    "    # Training cycle\n",
    "    for epoch in range(epochs):\n",
    "        # Loop over all batches\n",
    "        n_batches = 5\n",
    "        for batch_i in range(1, n_batches + 1):\n",
    "            for batch_features, batch_labels in helper.load_preprocess_training_batch(batch_i, batch_size):\n",
    "                train_neural_network(sess, optimizer, keep_probability, batch_features, batch_labels)\n",
    "            print('Epoch {:>2}, CIFAR-10 Batch {}:  '.format(epoch + 1, batch_i), end='')\n",
    "            print_stats(sess, batch_features, batch_labels, cost, accuracy)\n",
    "            \n",
    "    # Save Model\n",
    "    saver = tf.train.Saver()\n",
    "    save_path = saver.save(sess, save_model_path)"
   ]
  },
  {
   "cell_type": "markdown",
   "metadata": {
    "deletable": true,
    "editable": true
   },
   "source": [
    "# Checkpoint\n",
    "The model has been saved to disk.\n",
    "## Test Model\n",
    "Test your model against the test dataset.  This will be your final accuracy. You should have an accuracy greater than 50%. If you don't, keep tweaking the model architecture and parameters."
   ]
  },
  {
   "cell_type": "code",
   "execution_count": 87,
   "metadata": {
    "collapsed": false,
    "deletable": true,
    "editable": true
   },
   "outputs": [
    {
     "name": "stdout",
     "output_type": "stream",
     "text": [
      "Testing Accuracy: 0.6353446483612061\n",
      "\n"
     ]
    },
    {
     "data": {
      "image/png": "[encoded data removed]",
      "text/plain": [
       "<matplotlib.figure.Figure at 0x11f895208>"
      ]
     },
     "metadata": {
      "image/png": {
       "height": 319,
       "width": 355
      }
     },
     "output_type": "display_data"
    }
   ],
   "source": [
    "\"\"\"\n",
    "DON'T MODIFY ANYTHING IN THIS CELL\n",
    "\"\"\"\n",
    "%matplotlib inline\n",
    "%config InlineBackend.figure_format = 'retina'\n",
    "\n",
    "import tensorflow as tf\n",
    "import pickle\n",
    "import helper\n",
    "import random\n",
    "\n",
    "# Set batch size if not already set\n",
    "try:\n",
    "    if batch_size:\n",
    "        pass\n",
    "except NameError:\n",
    "    batch_size = 64\n",
    "\n",
    "save_model_path = './image_classification'\n",
    "n_samples = 4\n",
    "top_n_predictions = 3\n",
    "\n",
    "def test_model():\n",
    "    \"\"\"\n",
    "    Test the saved model against the test dataset\n",
    "    \"\"\"\n",
    "\n",
    "    test_features, test_labels = pickle.load(open('preprocess_training.p', mode='rb'))\n",
    "    loaded_graph = tf.Graph()\n",
    "\n",
    "    with tf.Session(graph=loaded_graph) as sess:\n",
    "        # Load model\n",
    "        loader = tf.train.import_meta_graph(save_model_path + '.meta')\n",
    "        loader.restore(sess, save_model_path)\n",
    "\n",
    "        # Get Tensors from loaded model\n",
    "        loaded_x = loaded_graph.get_tensor_by_name('x:0')\n",
    "        loaded_y = loaded_graph.get_tensor_by_name('y:0')\n",
    "        loaded_keep_prob = loaded_graph.get_tensor_by_name('keep_prob:0')\n",
    "        loaded_logits = loaded_graph.get_tensor_by_name('logits:0')\n",
    "        loaded_acc = loaded_graph.get_tensor_by_name('accuracy:0')\n",
    "        \n",
    "        # Get accuracy in batches for memory limitations\n",
    "        test_batch_acc_total = 0\n",
    "        test_batch_count = 0\n",
    "        \n",
    "        for train_feature_batch, train_label_batch in helper.batch_features_labels(test_features, test_labels, batch_size):\n",
    "            test_batch_acc_total += sess.run(\n",
    "                loaded_acc,\n",
    "                feed_dict={loaded_x: train_feature_batch, loaded_y: train_label_batch, loaded_keep_prob: 1.0})\n",
    "            test_batch_count += 1\n",
    "\n",
    "        print('Testing Accuracy: {}\\n'.format(test_batch_acc_total/test_batch_count))\n",
    "\n",
    "        # Print Random Samples\n",
    "        random_test_features, random_test_labels = tuple(zip(*random.sample(list(zip(test_features, test_labels)), n_samples)))\n",
    "        random_test_predictions = sess.run(\n",
    "            tf.nn.top_k(tf.nn.softmax(loaded_logits), top_n_predictions),\n",
    "            feed_dict={loaded_x: random_test_features, loaded_y: random_test_labels, loaded_keep_prob: 1.0})\n",
    "        helper.display_image_predictions(random_test_features, random_test_labels, random_test_predictions)\n",
    "\n",
    "\n",
    "test_model()"
   ]
  },
  {
   "cell_type": "markdown",
   "metadata": {
    "deletable": true,
    "editable": true
   },
   "source": [
    "## Why 50-70% Accuracy?\n",
    "You might be wondering why you can't get an accuracy any higher. First things first, 50% isn't bad for a simple CNN.  Pure guessing would get you 10% accuracy. However, you might notice people are getting scores [well above 70%](http://rodrigob.github.io/are_we_there_yet/build/classification_datasets_results.html#43494641522d3130).  That's because we haven't taught you all there is to know about neural networks. We still need to cover a few more techniques.\n",
    "## Submitting This Project\n",
    "When submitting this project, make sure to run all the cells before saving the notebook.  Save the notebook file as \"dlnd_image_classification.ipynb\" and save it as a HTML file under \"File\" -> \"Download as\".  Include the \"helper.py\" and \"problem_unittests.py\" files in your submission."
   ]
  }
 ],
 "metadata": {
  "kernelspec": {
   "display_name": "Python 3",
   "language": "python",
   "name": "python3"
  },
  "language_info": {
   "codemirror_mode": {
    "name": "ipython",
    "version": 3
   },
   "file_extension": ".py",
   "mimetype": "text/x-python",
   "name": "python",
   "nbconvert_exporter": "python",
   "pygments_lexer": "ipython3",
   "version": "3.6.0"
  },
  "widgets": {
   "state": {},
   "version": "1.1.2"
  }
 },
 "nbformat": 4,
 "nbformat_minor": 0
}
